{
 "cells": [
  {
   "cell_type": "markdown",
   "metadata": {},
   "source": [
    "# Computing Birge-Sponer plots from vibrational transitions"
   ]
  },
  {
   "cell_type": "markdown",
   "metadata": {},
   "source": [
    "<a rel=\"license\" href=\"http://creativecommons.org/licenses/by/4.0/\"><img alt=\"Creative Commons Licence\" style=\"border-width:0\" src=\"https://i.creativecommons.org/l/by/4.0/88x31.png\" title='This work is licensed under a Creative Commons Attribution 4.0 International License.' align=\"right\"/></a>\n",
    "\n",
    "This is an interactive notebook to compute Birge-Sponer plots from vibrational data and estimate upper bounds for dissociation energies based on vibrational frequency data.  \n",
    "\n",
    "Author: Dr Antonia Mey [@ppxasjsm](https://github.com/ppxasjsm)\n",
    "- to run the currently highlighted cell by holding <kbd>&#x21E7; Shift</kbd> and press <kbd>&#x23ce; Enter</kbd>;"
   ]
  },
  {
   "cell_type": "markdown",
   "metadata": {},
   "source": [
    "## Adding data\n",
    "You can add a set of vibrational transition wave numbers and their corresponding vibrational quantum numbers in the two cells below. An example for HgH would look like this:   \n",
    "Observed transitions: 1203.7, 965.6, 632.4, 172    \n",
    "Vibrational quantum numbers: 0.5, 1.5, 2.5, 3.5"
   ]
  },
  {
   "cell_type": "code",
   "execution_count": null,
   "metadata": {},
   "outputs": [],
   "source": [
    "%pylab inline\n",
    "import Helper\n",
    "data = Helper.data_input()\n",
    "display(data)"
   ]
  },
  {
   "cell_type": "markdown",
   "metadata": {},
   "source": [
    "The data will be read by the program and then plotted against each other, when you execute the next cell. "
   ]
  },
  {
   "cell_type": "code",
   "execution_count": null,
   "metadata": {},
   "outputs": [],
   "source": [
    "Helper.plot_birge_sponer(data)"
   ]
  },
  {
   "cell_type": "markdown",
   "metadata": {},
   "source": [
    "#### Extrapolating the data\n",
    "Now in order to be able to compute the dissociation constant we need to extrapolate the line until it crosses the y-axis at x=0 and the x axis at y=0.   \n",
    "The plot below has done this automatically. The Helper module uses a linear regression fit called `linregress` as implemented in `scipy`. "
   ]
  },
  {
   "cell_type": "code",
   "execution_count": null,
   "metadata": {},
   "outputs": [],
   "source": [
    "Helper.plot_extrapolated_birge_sponer(data)"
   ]
  },
  {
   "cell_type": "markdown",
   "metadata": {},
   "source": [
    "#### Computing the area under the curve\n",
    "You can see, that the dashed orange line is the extrapolated curve to where the extrapolation is required. \n",
    "You could now try and read the numbers of the graph, or just compute the area under the curve, which in this case is a right-angle triangle. \n",
    "\n",
    "Remember the area of a triangle is given by:\n",
    "$A = \\frac{1}{2}ab$,    \n",
    "where a, in this case, is the side of the y-axis and b is the side of the x-axis. \n",
    "Again there is a convenient helper function that will take the data from the curve and compute the area, and conveniently display this result. "
   ]
  },
  {
   "cell_type": "code",
   "execution_count": null,
   "metadata": {},
   "outputs": [],
   "source": [
    "Helper.compute_area_under_graph(data)"
   ]
  },
  {
   "cell_type": "markdown",
   "metadata": {},
   "source": [
    "**Check your understanding**:\n",
    "How is the dissociation energy computed from the wave number that is estimated by the area under the curve?\n",
    "Try it yourself and see if you get the same answer as below. "
   ]
  },
  {
   "cell_type": "code",
   "execution_count": null,
   "metadata": {},
   "outputs": [],
   "source": [
    "Helper.compute_dissociation_energy(data)"
   ]
  },
  {
   "cell_type": "markdown",
   "metadata": {},
   "source": [
    "***Some other data***:   \n"
   ]
  },
  {
   "cell_type": "code",
   "execution_count": null,
   "metadata": {},
   "outputs": [],
   "source": [
    "a = np.array([2191,2064,1941,1821,1705,1591,1479,1368,1257,1145,1033,918,800,677,548,411])\n",
    "v = []\n",
    "V = 0.5\n",
    "for i in range(len(a)):\n",
    "    v.append(V)\n",
    "    V = V+1 "
   ]
  },
  {
   "cell_type": "code",
   "execution_count": null,
   "metadata": {},
   "outputs": [],
   "source": [
    "v"
   ]
  },
  {
   "cell_type": "code",
   "execution_count": null,
   "metadata": {},
   "outputs": [],
   "source": []
  }
 ],
 "metadata": {
  "kernelspec": {
   "display_name": "Python 3",
   "language": "python",
   "name": "python3"
  },
  "language_info": {
   "codemirror_mode": {
    "name": "ipython",
    "version": 3
   },
   "file_extension": ".py",
   "mimetype": "text/x-python",
   "name": "python",
   "nbconvert_exporter": "python",
   "pygments_lexer": "ipython3",
   "version": "3.7.6"
  }
 },
 "nbformat": 4,
 "nbformat_minor": 4
}
